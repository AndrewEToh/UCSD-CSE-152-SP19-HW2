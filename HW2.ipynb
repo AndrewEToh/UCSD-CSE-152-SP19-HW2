{
 "cells": [
  {
   "cell_type": "markdown",
   "metadata": {},
   "source": [
    "# CSE 152: Intro to Computer Vision - Spring 2019 Assignment 2\n",
    "## Instructor: David Kriegman\n",
    "### Assignment published on Friday, April 26, 2019\n",
    "### Due on Wednesday, May 8, 2019 at 11:59pm\n",
    "\n",
    "## Instructions\n",
    "* This assignment must be completed individually. Review the academic integrity and collaboration policies on the course website.\n",
    "* All solutions should be written in this notebook.\n",
    "* If you want to modify the skeleton code, you may do so. It has been merely been provided as a framework for your solution.\n",
    "* You may use Python packages for basic linear algebra (e.g. NumPy or SciPy for basic operations), but you may not use packages that directly solve the problem. If you are unsure about using a specific package or function, ask the instructor and/or teaching assistants for clarification.\n",
    "* You must submit this notebook exported as a PDF. You must also submit this notebook as an `.ipynb` file. Submit both files (`.pdf` and `.ipynb`) on Gradescope. **You must mark the PDF pages associated with each question in Gradescope. If you fail to do so, we may dock points.**\n",
    "* It is highly recommended that you begin working on this assignment early.\n",
    "* **Late policy:** a penalty of 10% per day after the due date.\n",
    "\n",
    "---"
   ]
  },
  {
   "cell_type": "markdown",
   "metadata": {},
   "source": [
    "## Problem 1: Stereo and Disparity [3 pts]\n",
    "Consider two cameras whose (virtual) image planes are the z=1 plane, and whose focal points are at (-20, 0, 0) and (20, 0, 0). We''ll call a point in the first camera (x, y), and a point in the second camera (u, v). Points in each camera are relative to the camera center. So, for example if (x, y) = (0, 0), this is really the point (-20, 0, 1) in world coordinates, while if (u, v) = (0, 0) this is the point (20, 0, 1).![Fig1.png](fig/fig1.png)\n",
    "a) Suppose the points (x, y) = (12, 12) is matched to the point (u, v) = (1, 12). What is the 3D location of this point?\n",
    "\n",
    "b) Consider points that lie on the line x + z = 0, y = 0. Use the same stereo setup as before. Write an analytic expression giving the disparity of a point on this line after it projects onto the two images, as a function of its position in the right image. So your expression should only involve the variables u and d (for disparity). Your expression only needs to be valid for points on the line that are in front of the cameras, i.e. with z > 1."
   ]
  },
  {
   "cell_type": "markdown",
   "metadata": {},
   "source": [
    "## Problem 2: Sparse Stereo Matching [20 pts]"
   ]
  },
  {
   "cell_type": "markdown",
   "metadata": {},
   "source": [
    "In this problem we will play around with sparse stereo matching methods. You will work on two image pairs, a warrior figure and a figure from the Matrix movies. These files both contain two images, two camera matrices, and associated sets of corresponding points (extracted by manually clicking the images). \n",
    "\n",
    "For the problems below, you will complete functions to demonstrate results on warrior image pairs (warrior1.png, warrior2.png). In all cases, you should apply the same procedures on the matrix image pair (matrix1.png, matrix2.png) as well. (Provide the same thing for BOTH matrix and warrior.) Note that the matrix image pair is harder, in the sense that matching algorithms will not work quite as well on it. You should expect good results, however, on warrior."
   ]
  },
  {
   "cell_type": "code",
   "execution_count": null,
   "metadata": {
    "collapsed": true
   },
   "outputs": [],
   "source": [
    "import numpy as np\n",
    "import matplotlib.pyplot as plt\n",
    "from skimage import io"
   ]
  },
  {
   "cell_type": "code",
   "execution_count": null,
   "metadata": {
    "collapsed": true
   },
   "outputs": [],
   "source": [
    "def rgb2gray(rgb):\n",
    "    \"\"\" Convert rgb image to grayscale.\n",
    "    \"\"\"\n",
    "    return np.dot(rgb[...,:3], [0.299, 0.587, 0.114])\n",
    "\n",
    "# convert points from euclidean to homogeneous\n",
    "def to_homog(points):\n",
    "    points = np.concatenate((points, np.ones((1, points.shape[1]))), axis=0)\n",
    "    return points\n",
    "\n",
    "# convert points from homogeneous to euclidean\n",
    "def from_homog(points_homog):\n",
    "    z = points_homog[-1,:]\n",
    "    points_homog = points_homog[:2,:]/z\n",
    "    return points_homog"
   ]
  },
  {
   "cell_type": "code",
   "execution_count": null,
   "metadata": {
    "collapsed": true
   },
   "outputs": [],
   "source": [
    "# plot matching result\n",
    "def show_matching_result(img1, img2, matching):\n",
    "    fig = plt.figure(figsize=(8, 8))\n",
    "    plt.imshow(np.hstack((img1, img2)), cmap='gray') # two dino images are of different sizes, resize one before use\n",
    "    for p1, p2 in matching:\n",
    "        plt.scatter(p1[0], p1[1], s=35, edgecolors='r', facecolors='none')\n",
    "        plt.scatter(p2[0] + img1.shape[1], p2[1], s=35, edgecolors='r', facecolors='none')\n",
    "        plt.plot([p1[0], p2[0] + img1.shape[1]], [p1[1], p2[1]])\n",
    "    plt.show()"
   ]
  },
  {
   "cell_type": "markdown",
   "metadata": {},
   "source": [
    "### Epipolar Geometry \n",
    "\n",
    "Using the fundamental_matrix function and the corresponding points provided in cor1.npy and cor2.npy, calculate the fundamental matrix. Note that estimation of the fundamental matrix is ill-conditioned; we need to normalize coordinates before computing the fundamental matrix in order to remedy this problem. The fundamental_matrix function contains code for normalization, so you just need to complete the compute_fundamental function by implementing the eight-point algorithm.\n",
    "\n",
    "Next, use this fundamental matrix, implement plot_epipolar_lines to plot the epipolar lines in both image pairs. For this part you may want to complete the function compute_fundamental and then use plot_epipolar_lines to draw epipolar lines on both images. Below, we provide some example results on the dino image pair. Your results should look similar. Include your results for matrix and warrior as per the figure below. \n",
    "![Dino Epipolar](fig/dinoEpi1.png)\n",
    "![Dino Epipolar](fig/dinoEpi2.png)"
   ]
  },
  {
   "cell_type": "code",
   "execution_count": null,
   "metadata": {
    "collapsed": true
   },
   "outputs": [],
   "source": [
    "import numpy as np\n",
    "import matplotlib.pyplot as plt\n",
    "\n",
    "imgs = []\n",
    "for i in range(2):\n",
    "    img = io.imread('p4/warrior/warrior' + str(i) + '.png')\n",
    "    #img = io.imread('p4/matrix/matrix' + str(i) + '.png')\n",
    "    imgs.append(rgb2gray(img))\n",
    "    \n",
    "cor1 = np.load(\"./p4/warrior/cor1.npy\")\n",
    "cor2 = np.load(\"./p4/warrior/cor2.npy\")\n",
    "matching = [(cor1[:,i], cor2[:,i]) for i in range(cor1.shape[1])]    \n",
    "show_matching_result(imgs[0],imgs[1], matching)\n",
    "\n",
    "# Remember to show your result for matrix image pair"
   ]
  },
  {
   "cell_type": "markdown",
   "metadata": {},
   "source": [
    "### Compute the Fundamental Matrix [5 pts]\n",
    "Please complete the compute_fundamental function. You only need to write the part between \"Your Code Here!\" and \"Your Code End!\""
   ]
  },
  {
   "cell_type": "code",
   "execution_count": null,
   "metadata": {
    "collapsed": true
   },
   "outputs": [],
   "source": [
    "def compute_fundamental(x1,x2):\n",
    "    \"\"\" Computes the fundamental matrix from corresponding points \n",
    "        (x1,x2 3*n arrays) using the 8 point algorithm.\n",
    "        Each row in the A matrix below is constructed as\n",
    "        [x*x', x*y', x, y*x', y*y', y, x', y', 1] \n",
    "    \"\"\"\n",
    "    \n",
    "    n = x1.shape[1]\n",
    "    if x2.shape[1] != n:\n",
    "        raise ValueError(\"Number of points don't match.\")\n",
    "    \n",
    "    '''\n",
    "    Your Code Here!\n",
    "    '''\n",
    "    \n",
    "    # build matrix for equations\n",
    "    A = np.zeros((n,9))\n",
    "    \n",
    "    \n",
    "    '''\n",
    "    Your Code End!\n",
    "    '''\n",
    "        \n",
    "    # compute linear least square solution\n",
    "    U,S,V = np.linalg.svd(A)\n",
    "    F = V[-1].reshape(3,3)\n",
    "        \n",
    "    # constrain F\n",
    "    # make rank 2 by zeroing out last singular value\n",
    "    U,S,V = np.linalg.svd(F)\n",
    "    S[2] = 0\n",
    "    F = np.dot(U,np.dot(np.diag(S),V))\n",
    "    \n",
    "    return F/F[2,2]\n",
    "\n",
    "\n",
    "def fundamental_matrix(x1,x2):\n",
    "    n = x1.shape[1]\n",
    "    if x2.shape[1] != n:\n",
    "        raise ValueError(\"Number of points don't match.\")\n",
    "\n",
    "    # normalize image coordinates\n",
    "    x1 = x1 / x1[2]\n",
    "    mean_1 = np.mean(x1[:2],axis=1)\n",
    "    S1 = np.sqrt(2) / np.std(x1[:2])\n",
    "    T1 = np.array([[S1,0,-S1*mean_1[0]],[0,S1,-S1*mean_1[1]],[0,0,1]])\n",
    "    x1 = np.dot(T1,x1)\n",
    "    \n",
    "    x2 = x2 / x2[2]\n",
    "    mean_2 = np.mean(x2[:2],axis=1)\n",
    "    S2 = np.sqrt(2) / np.std(x2[:2])\n",
    "    T2 = np.array([[S2,0,-S2*mean_2[0]],[0,S2,-S2*mean_2[1]],[0,0,1]])\n",
    "    x2 = np.dot(T2,x2)\n",
    "\n",
    "    # compute F with the normalized coordinates\n",
    "    F = compute_fundamental(x1,x2)\n",
    "\n",
    "    # reverse normalization\n",
    "    F = np.dot(T1.T,np.dot(F,T2))\n",
    "\n",
    "    return F/F[2,2]"
   ]
  },
  {
   "cell_type": "markdown",
   "metadata": {},
   "source": [
    "### Epipolar Lines [5 pts]"
   ]
  },
  {
   "cell_type": "code",
   "execution_count": null,
   "metadata": {
    "collapsed": true
   },
   "outputs": [],
   "source": [
    "def plot_epipolar_lines(F,img1,img2, cor1, cor2):\n",
    "    \"\"\"Plot epipolar lines on image given fundamental matrix, image, corners\n",
    "\n",
    "    Args:\n",
    "        F: Fundamental matrix\n",
    "        img1: Image 1.\n",
    "        img2: Image 2.\n",
    "        cor1: Corners in homogeneous image coordinate in image 1 (3xn)\n",
    "        cor2: Corners in homogeneous image coordinate in image 2 (3xn)\n",
    "\n",
    "    \"\"\"\n",
    "    \"\"\"\n",
    "    Your Code Here !!!\n",
    "    \"\"\"\n",
    "    "
   ]
  },
  {
   "cell_type": "code",
   "execution_count": null,
   "metadata": {
    "collapsed": true
   },
   "outputs": [],
   "source": [
    "F = fundamental_matrix(cor1,cor2)\n",
    "plot_epipolar_lines(F,imgs[0],imgs[1],cor1,cor2)"
   ]
  },
  {
   "cell_type": "markdown",
   "metadata": {},
   "source": [
    "### Image Rectification \n",
    " An interesting case for epipolar geometry occurs when two images are parallel to each other. In this case, there is no rotation component involved between the two images and the essential matrix is $\\texttt{E}=[\\boldsymbol{T_{x}}]\\boldsymbol{R}=[\\boldsymbol{T_{x}}]$. Also if you observe the epipolar lines $\\boldsymbol{l}$ and $\\boldsymbol{l^{'}}$ for parallel images, they are horizontal and consequently, the corresponding epipolar lines share the same vertical coordinate. Therefore the process of making images parallel becomes useful while discerning the relationships between corresponding points in images.\n",
    " Rectifying a pair of images can also be done for uncalibrated camera images (i.e. we do not require the camera matrix of intrinsic parameters). Using the fundamental matrix we can find the pair of epipolar lines $\\boldsymbol{l_i}$ and $\\boldsymbol{l^{'}_i}$ for each of the correspondences. The intersection of these lines will give us the respective epipoles $\\boldsymbol{e}$ and $\\boldsymbol{e^{'}}$.  Now to make the epipolar lines to be parallel we need to map the epipoles to infinity. Hence, we need to find a homography that maps the epipoles to infinity. The method to find the homography has been implemented for you. You can read more about the method used to estimate the homography in the paper \"Theory and Practice of Projective Rectification\" by Richard Hartley.\n",
    " ![Image Rectification Setup](image_rectification.png)\n",
    " \n",
    " In this part you first need to complete the function compute_epipole. The function compute_epipole is used to calculate the epipoles for a given fundamental matrix and corner point correspondences in the two images.\n",
    " \n",
    " Using the compute_epipoles function and the given compute_matching_homographies function, we get $H_L$ and $H_R$. Then we can complete the function image_rectification to find the rectified images and plot the parallel epipolar lines using the plot_epipolar_lines function from above. You need to run this for both the matrix and the warrior images. A sample output is provided below:\n",
    " ![sample rectification](sample_rectification.png)"
   ]
  },
  {
   "cell_type": "markdown",
   "metadata": {},
   "source": [
    "### Compute Epipole [5 pts]"
   ]
  },
  {
   "cell_type": "code",
   "execution_count": null,
   "metadata": {
    "collapsed": true
   },
   "outputs": [],
   "source": [
    "def compute_epipole(F):\n",
    "    '''\n",
    "    This function computes the epipoles for a given fundamental matrix and corner point correspondences\n",
    "    input:\n",
    "    F--> Fundamental matrix\n",
    "    output:\n",
    "    e1--> corresponding epipole in image 1\n",
    "    e2--> epipole in image2\n",
    "    '''\n",
    "    \"\"\"\n",
    "    Your Code Here!!!\n",
    "    \"\"\"\n",
    "    \n",
    "    return e1/e1[2], e2/e2[2]"
   ]
  },
  {
   "cell_type": "markdown",
   "metadata": {},
   "source": [
    "### Image Rectification [5 pts]"
   ]
  },
  {
   "cell_type": "code",
   "execution_count": null,
   "metadata": {
    "collapsed": true
   },
   "outputs": [],
   "source": [
    "def compute_matching_homographies(e2, F, im2, points1, points2):\n",
    "    \n",
    "    '''This function computes the homographies to get the rectified images\n",
    "    input:\n",
    "    e2--> epipole in image 2\n",
    "    F--> the Fundamental matrix\n",
    "    im2--> image2\n",
    "    points1 --> corner points in image1\n",
    "    points2--> corresponding corner points in image2\n",
    "    output:\n",
    "    H1--> Homography for image 1\n",
    "    H2--> Homography for image 2\n",
    "    '''\n",
    "    # calculate H2\n",
    "    width = im2.shape[1]\n",
    "    height = im2.shape[0]\n",
    "\n",
    "    T = np.identity(3)\n",
    "    T[0][2] = -1.0 * width / 2\n",
    "    T[1][2] = -1.0 * height / 2\n",
    "\n",
    "    e = T.dot(e2)\n",
    "    e1_prime = e[0]\n",
    "    e2_prime = e[1]\n",
    "    if e1_prime >= 0:\n",
    "        alpha = 1.0\n",
    "    else:\n",
    "        alpha = -1.0\n",
    "\n",
    "    R = np.identity(3)\n",
    "    R[0][0] = alpha * e1_prime / np.sqrt(e1_prime**2 + e2_prime**2)\n",
    "    R[0][1] = alpha * e2_prime / np.sqrt(e1_prime**2 + e2_prime**2)\n",
    "    R[1][0] = - alpha * e2_prime / np.sqrt(e1_prime**2 + e2_prime**2)\n",
    "    R[1][1] = alpha * e1_prime / np.sqrt(e1_prime**2 + e2_prime**2)\n",
    "\n",
    "    f = R.dot(e)[0]\n",
    "    G = np.identity(3)\n",
    "    G[2][0] = - 1.0 / f\n",
    "\n",
    "    H2 = np.linalg.inv(T).dot(G.dot(R.dot(T)))\n",
    "\n",
    "    # calculate H1\n",
    "    e_prime = np.zeros((3, 3))\n",
    "    e_prime[0][1] = -e2[2]\n",
    "    e_prime[0][2] = e2[1]\n",
    "    e_prime[1][0] = e2[2]\n",
    "    e_prime[1][2] = -e2[0]\n",
    "    e_prime[2][0] = -e2[1]\n",
    "    e_prime[2][1] = e2[0]\n",
    "\n",
    "    v = np.array([1, 1, 1])\n",
    "    M = e_prime.dot(F) + np.outer(e2, v)\n",
    "\n",
    "    points1_hat = H2.dot(M.dot(points1.T)).T\n",
    "    points2_hat = H2.dot(points2.T).T\n",
    "\n",
    "    W = points1_hat / points1_hat[:, 2].reshape(-1, 1)\n",
    "    b = (points2_hat / points2_hat[:, 2].reshape(-1, 1))[:, 0]\n",
    "\n",
    "    # least square problem\n",
    "    a1, a2, a3 = np.linalg.lstsq(W, b)[0]\n",
    "    HA = np.identity(3)\n",
    "    HA[0] = np.array([a1, a2, a3])\n",
    "\n",
    "    H1 = HA.dot(H2).dot(M)\n",
    "    return H1, H2\n",
    "\n",
    "def image_rectification(im1,im2,points1,points2):\n",
    "    '''This function provides the rectified images along with the new corner points as outputs for a given pair of \n",
    "    images with corner correspondences\n",
    "    input:\n",
    "    im1--> image1\n",
    "    im2--> image2\n",
    "    points1--> corner points in image1\n",
    "    points2--> corner points in image2\n",
    "    output:\n",
    "    rectified_im1-->rectified image 1\n",
    "    rectified_im2-->rectified image 2\n",
    "    new_cor1--> new corners in the rectified image 1\n",
    "    new_cor2--> new corners in the rectified image 2\n",
    "    '''\n",
    "    \n",
    "    '''\n",
    "    Your Code Here!!!\n",
    "    '''\n",
    "        \n",
    "    return rectified_ims[0],rectified_ims[1],new_cors[0],new_cors[1]"
   ]
  },
  {
   "cell_type": "code",
   "execution_count": null,
   "metadata": {
    "collapsed": true,
    "scrolled": true
   },
   "outputs": [],
   "source": [
    "# find the rectified images and plot the parallel epipolar lines\n",
    "rectified_im1,rectified_im2,new_cor1,new_cor2 = image_rectification(imgs[0],imgs[1],cor1,cor2)\n",
    "newF = fundamental_matrix(new_cor1,new_cor2)\n",
    "plot_epipolar_lines(newF, rectified_im1,rectified_im2, new_cor1, new_cor2)"
   ]
  },
  {
   "cell_type": "markdown",
   "metadata": {},
   "source": [
    "## Problem 3: RANSAC for Estimating the Fundamental Matrix [17 pts]\n",
    "We will now use SIFT to detect and match features, then use RANSAC to eliminate outliers that do not conform to a fundamental matrix model. For this problem, we are providing matched SIFT points in text files that you may simply read as input."
   ]
  },
  {
   "cell_type": "markdown",
   "metadata": {},
   "source": [
    "### Visualization of matching points [2 pts]\n",
    "Use the provided matched SIFT points in the two images road1.png (leftimage) and road2.png (right image). Visualize the matched features by drawing lines between the left and right images. You may use the provided *show_matching_result* function. The data in points1.txt are the keypoints in the left image and the data in points2.txt are the keypoints in the right image. Each row has the x and y coordinates for a point. Corresponding rows in the two files are the matching points. Randomly visualize 20 matchings from all matched points."
   ]
  },
  {
   "cell_type": "code",
   "execution_count": null,
   "metadata": {
    "collapsed": true
   },
   "outputs": [],
   "source": [
    "import numpy as np\n",
    "from skimage import io\n",
    "import matplotlib.pyplot as plt\n",
    "import random\n",
    "\n",
    "\n",
    "x1 = np.loadtxt(\"points1.txt\").T\n",
    "x2 = np.loadtxt(\"points2.txt\").T\n",
    "roadimgs = []\n",
    "for i in range(2):\n",
    "    img = io.imread('road' + str(i+1) + '.png')\n",
    "    roadimgs.append(rgb2gray(img))\n",
    "\n",
    "# Your code here"
   ]
  },
  {
   "cell_type": "markdown",
   "metadata": {},
   "source": [
    "### Estimation of fundamental matrix using SIFT matches and plotting epipolar lines [3 pts]\n",
    "Estimate the fundamental matrix using the SIFT matches. Plot the epipolar lines for 5 randomly selected keypoints. You may use *fundamental_matrix* and *plot_epipolar_lines* functions to do this. Note that it's normal to not get a correct result due to the noisy matching pairs."
   ]
  },
  {
   "cell_type": "code",
   "execution_count": null,
   "metadata": {
    "collapsed": true
   },
   "outputs": [],
   "source": [
    "# Your code here\n"
   ]
  },
  {
   "cell_type": "markdown",
   "metadata": {},
   "source": [
    "### RANSAC with 8-point algorithm [10 pts]\n",
    "Use RANSAC with the 8-point algorithm to remove outliers and re-estimate the fundamental matrix with the inliers. Visualize the inlier matches by drawing lines between the left and right images. Plot the epipolar lines for 5 randomly selected keypoints."
   ]
  },
  {
   "cell_type": "code",
   "execution_count": null,
   "metadata": {
    "collapsed": true
   },
   "outputs": [],
   "source": [
    "from tqdm import tqdm\n",
    "\n",
    "def compute_fundamental_RANSAC(cor1, cor2, epiConstThres, nSample):\n",
    "    \"\"\"\n",
    "    Input:\n",
    "    - cor1, cor2: corners in image1 and image2\n",
    "    - epiConstThres: Threshold for accepting inliers\n",
    "    - nSample: number of iterations for RANSAC\n",
    "    \n",
    "    Output:\n",
    "    - bestF: best fundamental matrix\n",
    "    - bestInliersIdx: under bestF, the index of inliers of matching points\n",
    "    - bestInliersNumList: record the best number of inliers so far at each iteration, with length nSample\n",
    "    \"\"\"\n",
    "    \"\"\" YOUR CODE HERE !!!\"\"\"\n",
    "    bestInliersNumList = []\n",
    "\n",
    "    return bestF, bestInliersIdx, bestInliersNumList\n",
    "\n",
    "def fundamental_matrix_RANSAC(x1,x2, epiConstThres, nSample):\n",
    "    n = x1.shape[1]\n",
    "    if x2.shape[1] != n:\n",
    "        raise ValueError(\"Number of points don't match.\")\n",
    "\n",
    "    # normalize image coordinates\n",
    "    x1 = x1 / x1[2]\n",
    "    mean_1 = np.mean(x1[:2],axis=1)\n",
    "    S1 = np.sqrt(2) / np.std(x1[:2])\n",
    "    T1 = np.array([[S1,0,-S1*mean_1[0]],[0,S1,-S1*mean_1[1]],[0,0,1]])\n",
    "    x1 = np.dot(T1,x1)\n",
    "    \n",
    "    x2 = x2 / x2[2]\n",
    "    mean_2 = np.mean(x2[:2],axis=1)\n",
    "    S2 = np.sqrt(2) / np.std(x2[:2])\n",
    "    T2 = np.array([[S2,0,-S2*mean_2[0]],[0,S2,-S2*mean_2[1]],[0,0,1]])\n",
    "    x2 = np.dot(T2,x2)\n",
    "\n",
    "    # compute F with the normalized coordinates\n",
    "    bestF, bestInliersIdx, bestInliersNumList = compute_fundamental_RANSAC(x1,x2,epiConstThres,nSample)\n",
    "    \n",
    "    # reverse normalization\n",
    "    bestF = np.dot(T1.T,np.dot(bestF,T2))\n",
    "\n",
    "    return bestF/bestF[2,2], bestInliersIdx, bestInliersNumList\n",
    "\n",
    "# calculating F using RANSAC\n",
    "epiConstThres = 0.1\n",
    "nSample = 3000\n",
    "np.random.seed(10)\n",
    "F, bestInliersIdx, bestInliersNumList = fundamental_matrix_RANSAC(x1_h, x2_h, epiConstThres, nSample)\n",
    "inlierPts1 = x1_h[:,bestInliersIdx]\n",
    "inlierPts2 = x2_h[:,bestInliersIdx]\n",
    "chooseidx = np.random.choice(inlierPts1.shape[1], 5, replace=False)\n",
    "plot_epipolar_lines(F, roadimgs[0], roadimgs[1], inlierPts1[:,chooseidx], inlierPts2[:,chooseidx])\n",
    "\n",
    "print('Number of inliers as iteration increases:')\n",
    "plt.plot(np.arange(len(bestInliersNumList)), bestInliersNumList, 'b-')"
   ]
  },
  {
   "cell_type": "markdown",
   "metadata": {},
   "source": [
    "### Conceptual question [2 pts]\n",
    "Conceptually, can you guess approximately where the epipole should lie for the two images above? Explain your reasoning. Do your epipolar lines above match that intuition? "
   ]
  },
  {
   "cell_type": "markdown",
   "metadata": {},
   "source": [
    "Your answer here."
   ]
  },
  {
   "cell_type": "markdown",
   "metadata": {},
   "source": [
    "---\n",
    "## Submission Instructions\n",
    "Remember to submit a PDF version of this notebook to Gradescope. Please make sure the contents in each cell are clearly shown in your final PDF file.\n",
    "\n",
    "There are multiple options for converting the notebook to PDF:\n",
    "1. You can find the export option at File $\\rightarrow$ Download as $\\rightarrow$ PDF via LaTeX\n",
    "2. You can first export as HTML and then convert to PDF"
   ]
  },
  {
   "cell_type": "code",
   "execution_count": null,
   "metadata": {
    "collapsed": true
   },
   "outputs": [],
   "source": []
  }
 ],
 "metadata": {
  "kernelspec": {
   "display_name": "Python 3",
   "language": "python",
   "name": "python3"
  },
  "language_info": {
   "codemirror_mode": {
    "name": "ipython",
    "version": 3
   },
   "file_extension": ".py",
   "mimetype": "text/x-python",
   "name": "python",
   "nbconvert_exporter": "python",
   "pygments_lexer": "ipython3",
   "version": "3.4.4"
  }
 },
 "nbformat": 4,
 "nbformat_minor": 2
}
